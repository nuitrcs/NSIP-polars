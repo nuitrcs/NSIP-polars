{
 "cells": [
  {
   "cell_type": "markdown",
   "id": "526da2bb-4dde-421f-8658-448d1122436c",
   "metadata": {},
   "source": [
    "## Setup"
   ]
  },
  {
   "cell_type": "code",
   "execution_count": null,
   "id": "bca938c6-2655-4e70-bba5-fef51e336943",
   "metadata": {},
   "outputs": [],
   "source": [
    "%load_ext autoreload\n",
    "%autoreload 2\n",
    "import warnings\n",
    "warnings.filterwarnings('ignore')"
   ]
  },
  {
   "cell_type": "code",
   "execution_count": null,
   "id": "4ab1d711-ad9e-47d1-97ea-83cbd39e3211",
   "metadata": {},
   "outputs": [],
   "source": [
    "# check python version - you need python 3.7 or greater to run polars\n",
    "!python -V"
   ]
  },
  {
   "cell_type": "code",
   "execution_count": null,
   "id": "a180948b-31f2-4480-a321-16e0450bc2eb",
   "metadata": {},
   "outputs": [],
   "source": [
    "# install polars\n",
    "!pip install polars"
   ]
  },
  {
   "cell_type": "code",
   "execution_count": null,
   "id": "2fac8524-6b15-496c-a612-b49079650693",
   "metadata": {},
   "outputs": [],
   "source": [
    "# import polars\n",
    "import polars as pl"
   ]
  },
  {
   "cell_type": "code",
   "execution_count": null,
   "id": "82d17519-0022-4bb0-8717-bc297e34a250",
   "metadata": {},
   "outputs": [],
   "source": [
    "# other useful imports for this workshop\n",
    "import pandas as pd\n",
    "from pathlib import Path"
   ]
  },
  {
   "cell_type": "markdown",
   "id": "84e82e91-7e7a-408d-b6a4-d33162e46be7",
   "metadata": {},
   "source": [
    "## Data download link\n",
    "Download the zip file, extract it and then rename the csv file to `flights.csv` and store it inside your data folder"
   ]
  },
  {
   "cell_type": "code",
   "execution_count": null,
   "id": "ac718211-e539-435b-8325-1b1dea49a0ae",
   "metadata": {},
   "outputs": [],
   "source": [
    "# flights --- https://github.com/kevinheavey/modern-polars/blob/master/data/flights.csv.zip"
   ]
  },
  {
   "cell_type": "markdown",
   "id": "3d086ece-69c7-443f-80a0-8b75646e004b",
   "metadata": {},
   "source": [
    "## Polars vs Pandas"
   ]
  },
  {
   "cell_type": "markdown",
   "id": "6b603835-6abf-46c6-a8e2-8202929ea3b4",
   "metadata": {},
   "source": [
    "Polars is a DataFrame library completely written in Rust and is built to empower Python developers with a scalable and efficient framework for handling data and is considered as an alternative to the very popular pandas library.<br><br>\n",
    "**Advantages of Polars over Pandas**:\n",
    "1. **Speed and Performance** - Polars is embarassingly parallel and is memory optimized\n",
    "2. **Lazy evaluation** - Polars incorporates lazy evaluation, which involves examining and optimizing queries to enhance their performance and minimize memory consumption. \n",
    "3. **Expressive syntax** - Polars employs a concise and intuitive syntax, making it easy to learn and use. \n",
    "4. **Method chaining** - DataFrame operations in Polars can be chained together, enabling efficient and concise data transformations.\n",
    "\n",
    "We will explore some of these features in today's workshop."
   ]
  },
  {
   "cell_type": "markdown",
   "id": "d816091b-9e9e-40a2-98c6-01a73e98b040",
   "metadata": {},
   "source": [
    "## The Basics"
   ]
  },
  {
   "cell_type": "markdown",
   "id": "d5cbe709-6ef2-4931-8b2f-0d2710127f35",
   "metadata": {},
   "source": [
    "### Loading a Dataset in Polars"
   ]
  },
  {
   "cell_type": "code",
   "execution_count": null,
   "id": "f95a5dfa-3147-4e17-9d14-adf60d9f7a7c",
   "metadata": {},
   "outputs": [],
   "source": [
    "%%timeit -n 3\n",
    "# Let's load some flight data - see the 'flights_readme.html' file for more details\n",
    "data_path = 'data/flights.csv'\n",
    "\n",
    "# polars code\n",
    "pl.Config.set_tbl_rows(5) # don't print too many rows in the book\n",
    "df_pl = pl.read_csv(data_path)"
   ]
  },
  {
   "cell_type": "code",
   "execution_count": null,
   "id": "6240c792-65a2-496c-83c2-9b6c2dcb4825",
   "metadata": {},
   "outputs": [],
   "source": [
    "df_pl"
   ]
  },
  {
   "cell_type": "markdown",
   "id": "f1c8f012-8fc1-4c61-904a-bb04d167febc",
   "metadata": {},
   "source": [
    "Notice that polars shows you the shape of the dataframe at the top left"
   ]
  },
  {
   "cell_type": "code",
   "execution_count": null,
   "id": "607943f9-d0f9-41c7-9e56-8b51452da4a7",
   "metadata": {},
   "outputs": [],
   "source": [
    "%%timeit -n 3\n",
    "# pandas code\n",
    "pd.options.display.max_rows = 5 \n",
    "df_pd = pd.read_csv(data_path)"
   ]
  },
  {
   "cell_type": "code",
   "execution_count": null,
   "id": "9fdd068a-a511-4f65-983f-1fc655a0ec6d",
   "metadata": {},
   "outputs": [],
   "source": [
    "df_pd"
   ]
  },
  {
   "cell_type": "markdown",
   "id": "4802d88b-c446-4334-9cc7-34b0372bf4bc",
   "metadata": {},
   "source": [
    "You can already see how much faster polars is at reading the csv file than pandas!"
   ]
  },
  {
   "cell_type": "markdown",
   "id": "48113ef6-a2ee-403b-a397-0df657d54bdc",
   "metadata": {},
   "source": [
    "### Data exploration"
   ]
  },
  {
   "cell_type": "markdown",
   "id": "f3a69c68-4b10-4ba5-8206-b1c82c46517e",
   "metadata": {},
   "source": [
    "A lot of the standard pandas commands such as `head` , `tail` , `describe` work as expected with a little extra output sprinkled in:"
   ]
  },
  {
   "cell_type": "code",
   "execution_count": null,
   "id": "82b06334-a27f-4177-850b-9f6a0e1a3d99",
   "metadata": {},
   "outputs": [],
   "source": [
    "df_pl.head() # polars"
   ]
  },
  {
   "cell_type": "code",
   "execution_count": null,
   "id": "94c69dbc-c943-4322-8188-de0ae35897ee",
   "metadata": {},
   "outputs": [],
   "source": [
    "df_pl.describe() # polars"
   ]
  },
  {
   "cell_type": "code",
   "execution_count": null,
   "id": "1f037f12-4247-485b-8d5e-d547ca7101aa",
   "metadata": {},
   "outputs": [],
   "source": [
    "df_pd.describe() # pandas"
   ]
  },
  {
   "cell_type": "markdown",
   "id": "b88b468c-e4d8-41d5-8a54-89d21c2a5960",
   "metadata": {},
   "source": [
    "The polars output has a couple of notable features:\n",
    "* The shape is included which is useful to make sure you’re not dropping rows or columns inadvertently\n",
    "* Underneath each column name is a data type which is another useful reminder\n",
    "* There are no index numbers\n",
    "* The string columns include ” ” around the values"
   ]
  },
  {
   "cell_type": "markdown",
   "id": "d7b1e358-c757-438d-942d-a110cec2351f",
   "metadata": {},
   "source": [
    "### Converting between polars and pandas"
   ]
  },
  {
   "cell_type": "markdown",
   "id": "d997852f-0f73-409e-9903-cff09e325f56",
   "metadata": {},
   "source": [
    "As you work with pandas and polars there are convenience functions for moving back and forth between the two. Here’s an example of creating a pandas dataframe from polars:\n",
    "* df_pl`.to_pandas()` will convert your polars df to pandas\n",
    "* `pl.from_pandas(pd_df)` will convert pandas df to polars\n",
    "\n",
    "Note: The conversion requires installing pyarrow and other dependencies"
   ]
  },
  {
   "cell_type": "markdown",
   "id": "e6295f1d-e446-4cc9-8a92-bc6bc06e0bc9",
   "metadata": {},
   "source": [
    "## Selecting and filtering rows and columns"
   ]
  },
  {
   "cell_type": "markdown",
   "id": "4d3501a4-12a3-4c9a-9559-d0eba549df1a",
   "metadata": {},
   "source": [
    "Polars does not use indexing, unlike pandas <br>\n",
    "Polars introduces the concept of Expressions to help you work with your data. There are four main expressions you need to understand when working with data in polars:\n",
    "* `select` to choose the subset of columns you want to work with\n",
    "* `filter` to choose the subset of rows you want to work with\n",
    "* `with_columns` to create new columns\n",
    "* `group_by` to group data together\n",
    "\n",
    "Choosing or reordering columns is straightforward with `select() `"
   ]
  },
  {
   "cell_type": "markdown",
   "id": "d6d4c378-c69a-40e5-add9-7eb9017a9fbd",
   "metadata": {},
   "source": [
    "### Select"
   ]
  },
  {
   "cell_type": "code",
   "execution_count": null,
   "id": "093965c9-d8e5-4817-a58d-da8235a40da3",
   "metadata": {},
   "outputs": [],
   "source": [
    "# select the columns you want to keep\n",
    "df_pl.select(pl.col(\"FlightDate\", \"Origin\", \"Dest\"))"
   ]
  },
  {
   "cell_type": "markdown",
   "id": "4eb8344d-d97b-400a-8ac4-709d080a02af",
   "metadata": {},
   "source": [
    "The `pl.col()` code is used to create column expressions. (See Documentation - https://docs.pola.rs/py-polars/html/reference/expressions/col.html)"
   ]
  },
  {
   "cell_type": "markdown",
   "id": "b8082fd5-05aa-48bd-8fa6-f592c37557ac",
   "metadata": {},
   "source": [
    "### Filter"
   ]
  },
  {
   "cell_type": "code",
   "execution_count": null,
   "id": "6d41a492-bb52-4642-8238-707daa389739",
   "metadata": {},
   "outputs": [],
   "source": [
    "# filtering \n",
    "df_pl.filter(pl.col(\"Origin\") == \"ORD\")"
   ]
  },
  {
   "cell_type": "markdown",
   "id": "9883e47c-9bcd-4df8-a7c8-bfa83b965367",
   "metadata": {},
   "source": [
    "### Add columns\n",
    "The easiest way to think about it is that any time you want to add a new column to your data, you need to use `with_columns` ."
   ]
  },
  {
   "cell_type": "code",
   "execution_count": null,
   "id": "e8ea9524-049e-4892-8267-727a68040c2e",
   "metadata": {},
   "outputs": [],
   "source": [
    "df_pl.with_columns(\n",
    "    (pl.col(\"DepDelayMinutes\") / 60)\n",
    "    .alias(\"DepDelayHours\")\n",
    ")"
   ]
  },
  {
   "cell_type": "markdown",
   "id": "6c2952c1-2bcd-41b5-8085-2308afe57430",
   "metadata": {},
   "source": [
    "This command does a couple of things to create a new column:\n",
    "* Select the DepDelayMinutes column\n",
    "* Do a math operation to convert time to hours\n",
    "* Name the newly created column DepDelayHours using the `alias` function"
   ]
  },
  {
   "cell_type": "markdown",
   "id": "a1c800f3-10f7-4730-b259-a190513777d5",
   "metadata": {},
   "source": [
    "### Conditional data expressions\n",
    "Polars has a useful function `when` `then` `otherwise` which can replace pandas `mask` or `np.where `"
   ]
  },
  {
   "cell_type": "code",
   "execution_count": null,
   "id": "f144405c-ed3b-420f-a2d7-faf75723571c",
   "metadata": {},
   "outputs": [],
   "source": [
    "df_pl.with_columns(\n",
    "    pl.when(pl.col(\"DepDelayMinutes\") > 30)\n",
    "    .then(pl.lit(\"Delayed\"))\n",
    "    .otherwise(pl.lit(\"OnTime\"))\n",
    "    .alias(\"Flight_delay_status\")\n",
    ")"
   ]
  },
  {
   "cell_type": "markdown",
   "id": "3da4ba21-e604-4810-91ab-0590eb15c2f2",
   "metadata": {},
   "source": [
    "This is somewhat analogous to an if-then-else statement in python.<br>\n",
    "This example also introduces `pl.lit()` which we use to assign a literal value to the columns."
   ]
  },
  {
   "cell_type": "markdown",
   "id": "41022fd6-6455-42ab-9964-691bf1caaeb5",
   "metadata": {},
   "source": [
    "Another version of the above expression where the delay in minutes is reported if less than 30"
   ]
  },
  {
   "cell_type": "code",
   "execution_count": null,
   "id": "26808dec-71e6-4d6f-a84b-e39230b14a77",
   "metadata": {},
   "outputs": [],
   "source": [
    "df_pl.with_columns(\n",
    "    pl.when(pl.col(\"DepDelayMinutes\") > 30)\n",
    "    .then(pl.lit(\"Delayed\"))\n",
    "    .otherwise(pl.col(\"DepDelayMinutes\"))\n",
    "    .alias(\"Flight_delay_status\")\n",
    ")"
   ]
  },
  {
   "cell_type": "markdown",
   "id": "a4bce6ac-7a12-470d-8c78-ba46ab6f5ea3",
   "metadata": {},
   "source": [
    "### Exercises\n",
    "Load the dataset below"
   ]
  },
  {
   "cell_type": "code",
   "execution_count": null,
   "id": "90f2e85f-cf8e-4aa3-b713-8d3b78f59b63",
   "metadata": {},
   "outputs": [],
   "source": [
    "df = pl.read_csv('data/diamonds.csv')\n",
    "df"
   ]
  },
  {
   "cell_type": "markdown",
   "id": "8457d97a-d772-46ef-9b47-43f76120a0ae",
   "metadata": {},
   "source": [
    "#### Select specific columns: carat, cut, and price"
   ]
  },
  {
   "cell_type": "code",
   "execution_count": null,
   "id": "1ea04e1b-877a-4c38-9216-cc06abbcfadb",
   "metadata": {},
   "outputs": [],
   "source": []
  },
  {
   "cell_type": "markdown",
   "id": "7f4f8c80-fd5a-4861-a298-6ee6241fda2c",
   "metadata": {},
   "source": [
    "#### Filter in rows where Carat Weight is larger than 2"
   ]
  },
  {
   "cell_type": "code",
   "execution_count": null,
   "id": "b86579c5-fd5d-4883-8764-71546af34a26",
   "metadata": {},
   "outputs": [],
   "source": []
  },
  {
   "cell_type": "markdown",
   "id": "834616e0-0c5a-44f3-97d6-6eea68130ddc",
   "metadata": {},
   "source": [
    "#### Add a column called price_1000 which shows the price in $1000 increments\n",
    "Example: if the price is 11791.57 it should show as 11.79157"
   ]
  },
  {
   "cell_type": "code",
   "execution_count": null,
   "id": "759f2c3d-9e57-4844-bfeb-ca9b9f0eea03",
   "metadata": {},
   "outputs": [],
   "source": []
  },
  {
   "cell_type": "markdown",
   "id": "0f06d30b-9ecd-406b-b7f2-ed6de97ba1e6",
   "metadata": {},
   "source": [
    "#### Add a column called price_tier such that:\n",
    "if the price is less than 10000, it shows the price value, else if the price is above 10000 it shows \"high_range\""
   ]
  },
  {
   "cell_type": "code",
   "execution_count": null,
   "id": "9eacb9f2-cd8b-4ecb-a04d-6e4a2f8f0936",
   "metadata": {
    "tags": []
   },
   "outputs": [],
   "source": []
  },
  {
   "cell_type": "code",
   "execution_count": null,
   "id": "66d8ce40-5426-4056-bbd2-cc43a948498d",
   "metadata": {},
   "outputs": [],
   "source": []
  },
  {
   "cell_type": "markdown",
   "id": "794fa688-4787-4958-8142-86cedc39fbae",
   "metadata": {},
   "source": [
    "## Method chaining\n"
   ]
  },
  {
   "cell_type": "markdown",
   "id": "d8a9f7fa-176a-40c6-8331-22b02f32fe2c",
   "metadata": {},
   "source": [
    "Many languages make it easy to write `thing.min().abs().str()` instead of `str(abs(min(thing)))`. The former is called method chaining and makes for more fluent code. You've already been using method chaining but let's look at a simple example"
   ]
  },
  {
   "cell_type": "code",
   "execution_count": null,
   "id": "7a87dce2-3007-40fb-bda3-f2ec95193ad3",
   "metadata": {},
   "outputs": [],
   "source": [
    "# Let's see an example with the diamonds dataset above\n",
    "(df\n",
    " .filter(pl.col(\"Carat Weight\") > 1.2)\n",
    " .groupby(\"Color\")\n",
    " .agg(pl.mean(\"Price\"))\n",
    ")"
   ]
  },
  {
   "cell_type": "markdown",
   "id": "24e91e66-5780-49e8-b1c7-7c005d353739",
   "metadata": {},
   "source": [
    "This code reads almost like an English sentence!"
   ]
  },
  {
   "cell_type": "markdown",
   "id": "93557915-2bbd-48e6-be91-8f965bc11408",
   "metadata": {},
   "source": [
    "### Grouping Data"
   ]
  },
  {
   "cell_type": "markdown",
   "id": "d39f2368-fe3e-42b9-ae6f-cebe98445e06",
   "metadata": {},
   "source": [
    "The pandas `groupby` and polars `group_by` functional similarly but the key difference is that polars does not have the concept of an index or multi-index.<br>\n",
    "Here’s a simple polars `group_by` example to calculate the mean flight delay by day of the week and origin."
   ]
  },
  {
   "cell_type": "code",
   "execution_count": null,
   "id": "dd70c45f-3727-481e-a185-053c6e45d95a",
   "metadata": {},
   "outputs": [],
   "source": [
    "(df_pl\n",
    " .group_by(\"DayOfWeek\", \"Origin\")\n",
    " .agg(pl.col(\"DepDelayMinutes\")\n",
    "      .mean()\n",
    "      .alias(\"mean_delay\"))\n",
    " .sort(\"mean_delay\")\n",
    ")"
   ]
  },
  {
   "cell_type": "markdown",
   "id": "7cca7d14-661c-41c4-bb48-d4b1e119af25",
   "metadata": {},
   "source": [
    "### Exercises\n"
   ]
  },
  {
   "cell_type": "markdown",
   "id": "3f335586-c2d1-4b4a-94e4-f40380798857",
   "metadata": {},
   "source": [
    "#### Group and chain - diamonds\n",
    "Find the mean price of a diamond by color and sort the result by mean price"
   ]
  },
  {
   "cell_type": "code",
   "execution_count": null,
   "id": "52a055ef-e656-4394-bffc-000f64606208",
   "metadata": {},
   "outputs": [],
   "source": [
    "df = pl.read_csv('data/diamonds.csv')"
   ]
  },
  {
   "cell_type": "code",
   "execution_count": null,
   "id": "ab28b868-fee3-480c-90f5-e89774a1666f",
   "metadata": {},
   "outputs": [],
   "source": []
  },
  {
   "cell_type": "markdown",
   "id": "a3814448-a975-4544-be9d-f9c95689cc44",
   "metadata": {},
   "source": [
    "#### Group and chain - flights\n",
    "Find the average delay in minutes for flights originating from individual cities within the state of IL. Which city has the least delay? Which city has the most delay?<br>\n",
    "Hint: use the `OriginState` and `OriginCityName` columns "
   ]
  },
  {
   "cell_type": "code",
   "execution_count": null,
   "id": "cf685306-422e-44cd-ada0-2be6f08db2fa",
   "metadata": {},
   "outputs": [],
   "source": []
  },
  {
   "cell_type": "code",
   "execution_count": null,
   "id": "6bfb19e6-c452-436c-9ef3-4e29f627fe88",
   "metadata": {},
   "outputs": [],
   "source": []
  },
  {
   "cell_type": "code",
   "execution_count": null,
   "id": "8e010420-a7ce-43bb-afe6-e1f6b830e091",
   "metadata": {},
   "outputs": [],
   "source": []
  }
 ],
 "metadata": {
  "kernelspec": {
   "display_name": "Python 3 (ipykernel)",
   "language": "python",
   "name": "python3"
  },
  "language_info": {
   "codemirror_mode": {
    "name": "ipython",
    "version": 3
   },
   "file_extension": ".py",
   "mimetype": "text/x-python",
   "name": "python",
   "nbconvert_exporter": "python",
   "pygments_lexer": "ipython3",
   "version": "3.10.9"
  }
 },
 "nbformat": 4,
 "nbformat_minor": 5
}
